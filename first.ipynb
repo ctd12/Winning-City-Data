{
 "cells": [
  {
   "cell_type": "code",
   "execution_count": 183,
   "metadata": {},
   "outputs": [],
   "source": [
    "import pandas as pd\n",
    "import os\n",
    "import ast"
   ]
  },
  {
   "cell_type": "code",
   "execution_count": 184,
   "metadata": {},
   "outputs": [],
   "source": [
    "# Importing the CSV and saving it as a Pandas DataFrame\n",
    "\n",
    "pwd = os.getcwd()\n",
    "filepath = pwd + '/case1.csv'\n",
    "city_data = pd.read_csv(filepath)\n",
    "del city_data['index']\n",
    "\n",
    "# Description of the CSV: This file contains data from 1870-2018, including teams, sports, and results.\n",
    "\n",
    "# \"key\" column: city, state\n",
    "# \"values\" column: list of dictionaries; each dictionary is a year (ascending) that a team from that city was formed\n",
    "# \"seasons\" column: how many seasons of each sports league have taken place in the city"
   ]
  },
  {
   "cell_type": "code",
   "execution_count": 185,
   "metadata": {},
   "outputs": [],
   "source": [
    "# Each \"values\" value is a string, it needs to be a list of dictionaries\n",
    "\n",
    "# Remove the brackets at the beginning of each string\n",
    "def remove_brackets(string):\n",
    "    remove_front = string.replace('[', '')\n",
    "    remove_back = remove_front.replace(']', '')\n",
    "    return remove_back\n"
   ]
  },
  {
   "cell_type": "code",
   "execution_count": 186,
   "metadata": {},
   "outputs": [],
   "source": [
    "# Turn the string into a list, separated by dictionary brackets\n",
    "\n",
    "def string_to_list(string):\n",
    "    new_list = []\n",
    "    new_string = ''\n",
    "    for i in string:\n",
    "        if i == '{':\n",
    "            new_string += i\n",
    "        elif i == '}':\n",
    "            new_string += i\n",
    "            new_list.append(new_string)\n",
    "            new_string = ''\n",
    "        else:\n",
    "            new_string += i\n",
    "    return new_list\n"
   ]
  },
  {
   "cell_type": "code",
   "execution_count": 187,
   "metadata": {},
   "outputs": [],
   "source": [
    "# Remove the ', ' that is at the beginning of every string after the first one in the list\n",
    "\n",
    "def remove_comma_space(team_list):\n",
    "    new_team_list = []\n",
    "    for i in team_list:\n",
    "        if i[0] == '{':\n",
    "            new_team_list.append(i)\n",
    "        else:\n",
    "            new_team = i[2:]\n",
    "            new_team_list.append(new_team)\n",
    "    return new_team_list\n"
   ]
  },
  {
   "cell_type": "code",
   "execution_count": 188,
   "metadata": {},
   "outputs": [],
   "source": [
    "# Finally, transform each item in the list from a string into a dictionary. We can now count and manipulate the dictionaries.\n",
    "\n",
    "def strings_to_dicts(list_of_strings):\n",
    "    list_of_dicts = []\n",
    "    for i in list_of_strings:\n",
    "        result = ast.literal_eval(i)\n",
    "        list_of_dicts.append(result)\n",
    "    return list_of_dicts\n"
   ]
  },
  {
   "cell_type": "code",
   "execution_count": 189,
   "metadata": {},
   "outputs": [],
   "source": [
    "# Replace the values column (string values) with a new values column that contains lists of dictionaries. \n",
    "# Each dictionary is a team that has called the city home.\n",
    "\n",
    "city_teams = []\n",
    "values_list = city_data['values']\n",
    "\n",
    "for value in values_list:\n",
    "    rb = remove_brackets(value)\n",
    "    stl = string_to_list(rb)\n",
    "    rcs = remove_comma_space(stl)\n",
    "    final = strings_to_dicts(rcs)\n",
    "    city_teams.append(final)\n",
    "\n",
    "city_data['values'] = city_teams\n",
    "city_data['# of Teams'] = city_data['values'].str.len()"
   ]
  }
 ],
 "metadata": {
  "kernelspec": {
   "display_name": "base",
   "language": "python",
   "name": "python3"
  },
  "language_info": {
   "codemirror_mode": {
    "name": "ipython",
    "version": 3
   },
   "file_extension": ".py",
   "mimetype": "text/x-python",
   "name": "python",
   "nbconvert_exporter": "python",
   "pygments_lexer": "ipython3",
   "version": "3.9.13"
  },
  "orig_nbformat": 4
 },
 "nbformat": 4,
 "nbformat_minor": 2
}
