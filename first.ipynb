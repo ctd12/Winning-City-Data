{
 "cells": [
  {
   "cell_type": "code",
   "execution_count": 16,
   "metadata": {},
   "outputs": [],
   "source": [
    "import pandas as pd\n",
    "import os"
   ]
  },
  {
   "cell_type": "code",
   "execution_count": 17,
   "metadata": {},
   "outputs": [],
   "source": [
    "# Importing the CSV\n",
    "\n",
    "pwd = os.getcwd()\n",
    "filepath = pwd + \"/case1.csv\"\n",
    "first_import = pd.read_csv(filepath, nrows = 10)\n",
    "\n",
    "# key column: city, state\n",
    "# values column: list of dictionaries\n",
    "## each dictionary is a year (ascending) that a team from that city won a championship\n",
    "# seasons column: how many seasons of each sports league have taken place in the city"
   ]
  },
  {
   "cell_type": "code",
   "execution_count": 18,
   "metadata": {},
   "outputs": [],
   "source": [
    "first_value = first_import['values'][9]\n"
   ]
  }
 ],
 "metadata": {
  "kernelspec": {
   "display_name": "base",
   "language": "python",
   "name": "python3"
  },
  "language_info": {
   "codemirror_mode": {
    "name": "ipython",
    "version": 3
   },
   "file_extension": ".py",
   "mimetype": "text/x-python",
   "name": "python",
   "nbconvert_exporter": "python",
   "pygments_lexer": "ipython3",
   "version": "3.9.13"
  },
  "orig_nbformat": 4
 },
 "nbformat": 4,
 "nbformat_minor": 2
}
