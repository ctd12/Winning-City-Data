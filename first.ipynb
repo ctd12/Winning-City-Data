{
 "cells": [
  {
   "cell_type": "code",
   "execution_count": 118,
   "metadata": {},
   "outputs": [],
   "source": [
    "import pandas as pd\n",
    "import os\n",
    "import ast"
   ]
  },
  {
   "cell_type": "code",
   "execution_count": 119,
   "metadata": {},
   "outputs": [],
   "source": [
    "# Importing the CSV and saving it as a Pandas DataFrame\n",
    "\n",
    "pwd = os.getcwd()\n",
    "filepath = pwd + '/case1.csv'\n",
    "city_data = pd.read_csv(filepath, nrows = 5)\n",
    "del city_data['index']\n",
    "\n",
    "# Description of the CSV: This file contains data from 1870-2018, including teams, sports, and results.\n",
    "\n",
    "# \"key\" column: city, state\n",
    "# \"values\" column: list of dictionaries; each dictionary is a year (ascending) that a team from that city was formed\n",
    "# \"seasons\" column: how many seasons of each sports league have taken place in the city"
   ]
  },
  {
   "cell_type": "code",
   "execution_count": 120,
   "metadata": {},
   "outputs": [],
   "source": [
    "# use matplotlib scatter"
   ]
  },
  {
   "cell_type": "code",
   "execution_count": 121,
   "metadata": {},
   "outputs": [],
   "source": [
    "# Create a column to see how many teams a city has\n",
    "\n",
    "# Each \"values\" value is a string, it needs to be a list of dictionaries\n",
    "\n",
    "# Remove the brackets at the beginning of each string\n",
    "def remove_brackets(string):\n",
    "    remove_front = string.replace('[', '')\n",
    "    remove_back = remove_front.replace(']', '')\n",
    "    return remove_back\n"
   ]
  },
  {
   "cell_type": "code",
   "execution_count": 122,
   "metadata": {},
   "outputs": [],
   "source": [
    "# Turn the string into a list, separated by dictionary brackets\n",
    "\n",
    "def string_to_list(string):\n",
    "    new_list = []\n",
    "    new_string = ''\n",
    "    for i in string:\n",
    "        if i == '{':\n",
    "            new_string += i\n",
    "        elif i == '}':\n",
    "            new_string += i\n",
    "            new_list.append(new_string)\n",
    "            new_string = ''\n",
    "        else:\n",
    "            new_string += i\n",
    "    return new_list\n"
   ]
  },
  {
   "cell_type": "code",
   "execution_count": 123,
   "metadata": {},
   "outputs": [],
   "source": [
    "# Remove the ', ' that is at the beginning of every string after the first one in the list\n",
    "\n",
    "def remove_comma_space(team_list):\n",
    "    new_team_list = []\n",
    "    for i in team_list:\n",
    "        if i[0] == '{':\n",
    "            new_team_list.append(i)\n",
    "        else:\n",
    "            new_team = i[2:]\n",
    "            new_team_list.append(new_team)\n",
    "    return new_team_list\n"
   ]
  },
  {
   "cell_type": "code",
   "execution_count": 124,
   "metadata": {},
   "outputs": [],
   "source": [
    "# Finally, transform each item in the list from a string into a dictionary. We can now count and manipulate the dictionaries.\n",
    "\n",
    "def strings_to_dicts(list_of_strings):\n",
    "    list_of_dicts = []\n",
    "    for i in list_of_strings:\n",
    "        result = ast.literal_eval(i)\n",
    "        list_of_dicts.append(result)\n",
    "        print(type(result))\n",
    "    return list_of_dicts\n"
   ]
  },
  {
   "cell_type": "code",
   "execution_count": 125,
   "metadata": {},
   "outputs": [
    {
     "data": {
      "text/html": [
       "<div>\n",
       "<style scoped>\n",
       "    .dataframe tbody tr th:only-of-type {\n",
       "        vertical-align: middle;\n",
       "    }\n",
       "\n",
       "    .dataframe tbody tr th {\n",
       "        vertical-align: top;\n",
       "    }\n",
       "\n",
       "    .dataframe thead th {\n",
       "        text-align: right;\n",
       "    }\n",
       "</style>\n",
       "<table border=\"1\" class=\"dataframe\">\n",
       "  <thead>\n",
       "    <tr style=\"text-align: right;\">\n",
       "      <th></th>\n",
       "      <th>key</th>\n",
       "      <th>values</th>\n",
       "      <th>population</th>\n",
       "      <th>seasons</th>\n",
       "    </tr>\n",
       "  </thead>\n",
       "  <tbody>\n",
       "    <tr>\n",
       "      <th>0</th>\n",
       "      <td>Green Bay, WI</td>\n",
       "      <td>[{'year': 1929, 'team': 'Green Bay Packers', '...</td>\n",
       "      <td>320050</td>\n",
       "      <td>{'mlb': 0, 'nba': 0, 'nfl': 97, 'nhl': 0, 'mls...</td>\n",
       "    </tr>\n",
       "    <tr>\n",
       "      <th>1</th>\n",
       "      <td>Sarnia, ON</td>\n",
       "      <td>[{'year': 1934, 'team': 'Sarnia Imperials', 's...</td>\n",
       "      <td>96151</td>\n",
       "      <td>{'mlb': 0, 'nba': 0, 'nfl': 0, 'nhl': 0, 'mls'...</td>\n",
       "    </tr>\n",
       "    <tr>\n",
       "      <th>2</th>\n",
       "      <td>Hamilton, ON</td>\n",
       "      <td>[{'year': 1912, 'team': 'Hamilton Alerts', 'sp...</td>\n",
       "      <td>747545</td>\n",
       "      <td>{'mlb': 0, 'nba': 0, 'nfl': 0, 'nhl': 5, 'mls'...</td>\n",
       "    </tr>\n",
       "    <tr>\n",
       "      <th>3</th>\n",
       "      <td>Regina, SK</td>\n",
       "      <td>[{'year': 1966, 'team': 'Saskatchewan Roughrid...</td>\n",
       "      <td>236481</td>\n",
       "      <td>{'mlb': 0, 'nba': 0, 'nfl': 0, 'nhl': 0, 'mls'...</td>\n",
       "    </tr>\n",
       "    <tr>\n",
       "      <th>4</th>\n",
       "      <td>Edmonton, AB</td>\n",
       "      <td>[{'year': 1954, 'team': 'Edmonton Eskimos', 's...</td>\n",
       "      <td>1321426</td>\n",
       "      <td>{'mlb': 0, 'nba': 0, 'nfl': 0, 'nhl': 39, 'mls...</td>\n",
       "    </tr>\n",
       "  </tbody>\n",
       "</table>\n",
       "</div>"
      ],
      "text/plain": [
       "             key                                             values  \\\n",
       "0  Green Bay, WI  [{'year': 1929, 'team': 'Green Bay Packers', '...   \n",
       "1     Sarnia, ON  [{'year': 1934, 'team': 'Sarnia Imperials', 's...   \n",
       "2   Hamilton, ON  [{'year': 1912, 'team': 'Hamilton Alerts', 'sp...   \n",
       "3     Regina, SK  [{'year': 1966, 'team': 'Saskatchewan Roughrid...   \n",
       "4   Edmonton, AB  [{'year': 1954, 'team': 'Edmonton Eskimos', 's...   \n",
       "\n",
       "   population                                            seasons  \n",
       "0      320050  {'mlb': 0, 'nba': 0, 'nfl': 97, 'nhl': 0, 'mls...  \n",
       "1       96151  {'mlb': 0, 'nba': 0, 'nfl': 0, 'nhl': 0, 'mls'...  \n",
       "2      747545  {'mlb': 0, 'nba': 0, 'nfl': 0, 'nhl': 5, 'mls'...  \n",
       "3      236481  {'mlb': 0, 'nba': 0, 'nfl': 0, 'nhl': 0, 'mls'...  \n",
       "4     1321426  {'mlb': 0, 'nba': 0, 'nfl': 0, 'nhl': 39, 'mls...  "
      ]
     },
     "execution_count": 125,
     "metadata": {},
     "output_type": "execute_result"
    }
   ],
   "source": [
    "city_teams = []\n",
    "\n",
    "\n",
    "\n",
    "#city_data[\"City Teams\"] = 1\n",
    "#print(city_data[\"City Teams\"])\n",
    "city_data.head(5)"
   ]
  }
 ],
 "metadata": {
  "kernelspec": {
   "display_name": "base",
   "language": "python",
   "name": "python3"
  },
  "language_info": {
   "codemirror_mode": {
    "name": "ipython",
    "version": 3
   },
   "file_extension": ".py",
   "mimetype": "text/x-python",
   "name": "python",
   "nbconvert_exporter": "python",
   "pygments_lexer": "ipython3",
   "version": "3.9.13"
  },
  "orig_nbformat": 4
 },
 "nbformat": 4,
 "nbformat_minor": 2
}
